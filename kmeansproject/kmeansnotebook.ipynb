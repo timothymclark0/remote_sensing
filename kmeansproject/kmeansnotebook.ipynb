{
  "cells": [
    {
      "cell_type": "code",
      "execution_count": null,
      "metadata": {
        "id": "eGt29AvgdzN1"
      },
      "outputs": [],
      "source": [
        "from __future__ import annotations\n",
        "from typing import TypeVar, Generic, List, Sequence\n",
        "from copy import deepcopy\n",
        "from functools import partial\n",
        "from random import uniform\n",
        "import random\n",
        "from statistics import mean,pstdev\n",
        "from dataclasses import dataclass\n",
        "import numpy as np\n",
        "import rasterio as io\n",
        "#from data_point import DataPoint"
      ]
    },
    {
      "cell_type": "code",
      "execution_count": null,
      "metadata": {
        "id": "pzxzCZZsgy1u"
      },
      "outputs": [],
      "source": [
        "def zscores(original: Sequence[float]) -> List[float]:\n",
        "  avg: float = mean(original)\n",
        "  std: float = np.std(original)\n",
        "  if std == 0: # return all zeros if there is no variation\n",
        "    return [0] * len(original)\n",
        "  return [(x - avg) / std for x in original]"
      ]
    },
    {
      "cell_type": "code",
      "execution_count": null,
      "metadata": {
        "id": "S0oPy93QhLb0"
      },
      "outputs": [],
      "source": [
        "from __future__ import annotations\n",
        "from typing import Iterator, Tuple, List, Iterable\n",
        "from math import sqrt\n",
        "class DataPoint:\n",
        "  def __init__(self, initial: Iterable[float]) -> None:\n",
        "    self._originals: Tuple[float, ...] = tuple(initial)\n",
        "    self.dimensions: Tuple[float, ...] = tuple(initial)\n",
        "  @property\n",
        "  def num_dimensions(self) -> int:\n",
        "    return len(self.dimensions)\n",
        "  def distance(self, other: DataPoint) -> float:\n",
        "    combined: Iterator[Tuple[float, float]] = zip(self.dimensions,other.dimensions)\n",
        "    differences: List[float] = [(x - y) ** 2 for x, y in combined]\n",
        "    return sqrt(sum(differences))\n",
        "  def __eq__(self, other: object) -> bool:\n",
        "    if not isinstance(other, DataPoint):\n",
        "      return NotImplemented\n",
        "    return self.dimensions == other.dimensions\n",
        "  def __repr__(self) -> str:\n",
        "    return self._originals.__repr__()"
      ]
    },
    {
      "cell_type": "code",
      "execution_count": null,
      "metadata": {
        "id": "puzwbhtYh7iJ"
      },
      "outputs": [],
      "source": [
        "Point = TypeVar('Point', bound=DataPoint)\n",
        "class KMeans(Generic[Point]):\n",
        "  @dataclass\n",
        "  class Cluster:\n",
        "    points: List[Point]\n",
        "    centroid: DataPoint\n",
        "  def __init__(self, k: int, points: List[Point]) -> None:\n",
        "    if k < 1: # k-means can't do negative or zero clusters\n",
        "      raise ValueError(\"k must be >= 1\")\n",
        "    self._points: List[Point] = points\n",
        "    self._zscore_normalize()\n",
        "# initialize empty clusters with random centroids\n",
        "    self._clusters: List[KMeans.Cluster] = []\n",
        "    for _ in range(k):\n",
        "      rand_point: DataPoint = self._random_point()\n",
        "      cluster: KMeans.Cluster = KMeans.Cluster([i*0 - 99 for i in range(len(self._points))], rand_point)\n",
        "      self._clusters.append(cluster)\n",
        "#Changing to: randomly assigning all points to clusters, then generating centroids for each cluster!\n",
        "  @property\n",
        "  def _centroids(self) -> List[DataPoint]:\n",
        "    return [x.centroid for x in self._clusters]\n",
        "  def _dimension_slice(self, dimension: int) -> List[float]:\n",
        "    return [x.dimensions[dimension] for x in self._points]\n",
        "  def _zscore_normalize(self) -> None:\n",
        "    zscored: List[List[float]] = [[] for _ in range(len(self._points))]\n",
        "    for dimension in range(self._points[0].num_dimensions):\n",
        "      dimension_slice: List[float] = self._dimension_slice(dimension) #PROBLEM!!!\n",
        "      for index, zscore in enumerate(zscores(dimension_slice)):\n",
        "        zscored[index].append(zscore)\n",
        "    for i in range(len(self._points)):\n",
        "      self._points[i].dimensions = tuple(zscored[i])\n",
        "  def _random_point(self) -> DataPoint:\n",
        "    rand_dimensions: List[float] = []\n",
        "    for dimension in range(self._points[0].num_dimensions):\n",
        "      values: List[float] = self._dimension_slice(dimension)\n",
        "      rand_value: float = uniform(min(values), max(values))\n",
        "      rand_dimensions.append(rand_value)\n",
        "    return DataPoint(rand_dimensions)\n",
        "  def _assign_clusters(self) -> None:\n",
        "    for point in self._points:\n",
        "      closest: DataPoint = min(self._centroids,\n",
        "    key=partial(DataPoint.distance, point))\n",
        "      idx: int = self._centroids.index(closest)\n",
        "      cluster: KMeans.Cluster = self._clusters[idx]\n",
        "      cluster.points.append(point)\n",
        "  def _generate_centroids(self) -> None:\n",
        "    for cluster in self._clusters:\n",
        "      if len(cluster.points) == 0: # keep the same centroid if no points\n",
        "        continue\n",
        "      means: List[float] = []\n",
        "    for dimension in range(cluster.points[0].num_dimensions):\n",
        "      dimension_slice: List[float] = [p.dimensions[dimension] for p in cluster.points]\n",
        "      means.append(mean(dimension_slice))\n",
        "      cluster.centroid = DataPoint(means)\n",
        "  def run(self, max_iterations: int = 100) -> List[KMeans.Cluster]:\n",
        "    for iteration in range(max_iterations):\n",
        "      if iteration != 0:\n",
        "        for cluster in self._clusters: # clear all clusters\n",
        "          cluster.points.clear()\n",
        "        self._assign_clusters() # find cluster each point is closest to\n",
        "        old_centroids: List[DataPoint] = deepcopy(self._centroids) # record\n",
        "        self._generate_centroids() # find new centroids\n",
        "        print(f\"iteration #{iteration} centroids: {[[round(h,2) for h in i.centroid] for i in self._clusters]}\")\n",
        "        if old_centroids == self._centroids: # have centroids moved?\n",
        "          print(f\"Converged after {iteration} iterations\")\n",
        "          return self._clusters\n",
        "      else:\n",
        "        for point in self._points:\n",
        "          self._clusters[random.randint(0,len(self._clusters)-1)].points.append(point)\n",
        "        self._generate_centroids()\n",
        "        print(f\"iteration #{iteration} centroids: {[[round(h,2) for h in i.centroid] for i in self._clusters]}\")\n",
        "\n",
        "    return self._clusters"
      ]
    },
    {
      "cell_type": "code",
      "execution_count": null,
      "metadata": {
        "colab": {
          "base_uri": "https://localhost:8080/"
        },
        "id": "aXvh5vyJCZxr",
        "outputId": "00e5ccd4-645a-4f54-b63b-594026481707"
      },
      "outputs": [],
      "source": [
        "point1: DataPoint = DataPoint([2.0, 1.0, 1.0])\n",
        "point2: DataPoint = DataPoint([2.0, 2.0, 5.0])\n",
        "point3: DataPoint = DataPoint([3.0, 1.5, 2.5])\n",
        "kmeans_test: KMeans[DataPoint] = KMeans(2, [point1, point2, point3])\n",
        "test_clusters: List[KMeans.Cluster] = kmeans_test.run()\n",
        "for index, cluster in enumerate(test_clusters):\n",
        "  print(f\"Cluster {index}: {cluster.points}\")"
      ]
    },
    {
      "cell_type": "code",
      "execution_count": null,
      "metadata": {
        "colab": {
          "base_uri": "https://localhost:8080/"
        },
        "id": "4GHA0Uczzbqp",
        "outputId": "533440bb-e5ca-4082-a962-557e2b16e3de"
      },
      "outputs": [],
      "source": [
        "\n",
        "#!pip install rasterio\n",
        "#!pip install geopandas\n",
        "#import geopandas\n",
        "import os\n",
        "import rasterio\n",
        "from rasterio.plot import show\n",
        "os.chdir('/Users/timothyclark/Documents/Python/remote_sensing/kmeansproject/')\n",
        "file1 = 'no-0822.img'\n",
        "file2 = 'no-0907.img'\n",
        "class GeoPixel(DataPoint):\n",
        "  def __init__(self,coord,composite):\n",
        "    super().__init__(composite)\n",
        "    self.coord = coord\n",
        "\n",
        "def parser(imgfile,band):\n",
        "  a = rasterio.open(imgfile)\n",
        "  pixels = a.read(band)\n",
        "  a.close()\n",
        "  return pixels\n",
        "\n",
        "def composite(imgarray):\n",
        "  szx,szy = imgarray[0].shape[0], imgarray[0].shape[1]\n",
        "  comp = np.zeros((szx,szy,len(imgarray)),dtype='int32')\n",
        "  for index,band in enumerate(imgarray):\n",
        "    comp[:,:,index] = band\n",
        "  lst = []\n",
        "  for x in range(szx):\n",
        "    for y in range(szy):\n",
        "      lst += [GeoPixel((x,y),list(comp[x,y,:]))]\n",
        "  return lst\n",
        "\n",
        "z = composite([parser(file1,i+1) for i in range(3,6)] + [parser(file2,i+1) for i in range(3,6)])\n",
        "#z = composite([parser(file1,5),parser(file2,5),parser(file1,4)])\n",
        "print(len(z))\n",
        "print(z[int(uniform(0.0,float(len(z))))])"
      ]
    },
    {
      "cell_type": "code",
      "execution_count": null,
      "metadata": {
        "colab": {
          "base_uri": "https://localhost:8080/"
        },
        "id": "Q7wVbNYB5imU",
        "outputId": "e4f3ff6a-47a8-4b33-96fc-c0d67f6ae4b3"
      },
      "outputs": [],
      "source": [
        "#kmeans_test2: KMeans[GeoPixel] = KMeans(3,composite(parser(file1,5),parser(file2,5)))\n",
        "kmeans_test2: KMeans[GeoPixel] = KMeans(4,z)\n",
        "clusters: KMeans.Cluster = kmeans_test2.run()\n",
        "for index, cluster in enumerate(clusters):\n",
        "  print(f\"Cluster {index}: {len(cluster.points)}\")"
      ]
    },
    {
      "cell_type": "code",
      "execution_count": null,
      "metadata": {
        "colab": {
          "base_uri": "https://localhost:8080/",
          "height": 513
        },
        "id": "MFVGB16e5gYk",
        "outputId": "7aee4985-4e03-4bd3-8617-5b1124b0c574"
      },
      "outputs": [],
      "source": [
        "import matplotlib.pyplot as plt\n",
        "%matplotlib inline\n",
        "colors = ['r','b','g','k','r']\n",
        "for index, cluster in enumerate(clusters):\n",
        "  y = [point.coord[0] for point in cluster.points]\n",
        "  x = [point.coord[1] for point in cluster.points]\n",
        "  plt.scatter(x,y,marker='.',color=colors.pop())\n",
        "\n",
        "plt.show()\n"
      ]
    },
    {
      "cell_type": "code",
      "execution_count": null,
      "metadata": {
        "colab": {
          "base_uri": "https://localhost:8080/",
          "height": 265
        },
        "id": "o2t32dZ9LyYH",
        "outputId": "fa3ff681-4f27-468e-a88d-b1c45adb9083"
      },
      "outputs": [],
      "source": [
        "import matplotlib.pyplot as plt\n",
        "colors = ['r','b','g','k','r','b','g','k','r','b']\n",
        "for index, cluster in enumerate(clusters):\n",
        "  x = [point._originals[4] for point in cluster.points]\n",
        "  y = [point._originals[10] for point in cluster.points]\n",
        "  plt.scatter(x,y,color=colors.pop())\n",
        "\n",
        "plt.show()"
      ]
    },
    {
      "cell_type": "code",
      "execution_count": 37,
      "metadata": {
        "colab": {
          "base_uri": "https://localhost:8080/"
        },
        "id": "_FbwGjxrk_jS",
        "outputId": "1cc4c440-1ad0-4d05-c0c3-b970b14f5071"
      },
      "outputs": [
        {
          "name": "stdout",
          "output_type": "stream",
          "text": [
            "[[[126 126 126]\n",
            "  [126 126 126]\n",
            "  [126 126 126]\n",
            "  [126 126 126]\n",
            "  [126 126 126]]\n",
            "\n",
            " [[126 126 126]\n",
            "  [126 126 126]\n",
            "  [126 126 126]\n",
            "  [126 126 126]\n",
            "  [126 126 126]]\n",
            "\n",
            " [[126 126 126]\n",
            "  [126 126 126]\n",
            "  [126 126 126]\n",
            "  [126 126 126]\n",
            "  [126 126 126]]\n",
            "\n",
            " [[126 126 126]\n",
            "  [126 126 126]\n",
            "  [126 126 126]\n",
            "  [126 126 126]\n",
            "  [126 126 126]]\n",
            "\n",
            " [[126 126 126]\n",
            "  [126 126 126]\n",
            "  [126 126 126]\n",
            "  [126 126 126]\n",
            "  [126 126 126]]]\n"
          ]
        }
      ],
      "source": [
        "import rasterio as io\n",
        "#params = rasterio.open(file1,'r')\n",
        "##z = parser(file1,5)\n",
        "#sz = z.shape\n",
        "#newraster = np.zeros((sz[0],sz[1],3),dtype='uint8')\n",
        "#for index, cluster in enumerate(clusters):\n",
        "#    for point in cluster.points:\n",
        "#        newraster[point.coord[0],point.coord[1],index] = 255\n",
        "        \n",
        "def class2array(refimg,clusters,newfile):\n",
        "    params = io.open(refimg,'r')\n",
        "    sz = params.read(1).shape\n",
        "    newraster = np.zeros((sz[0],sz[1],3),dtype=np.int8)\n",
        "    for index, cluster in enumerate(clusters):\n",
        "        for point in cluster.points:\n",
        "            newraster[point.coord[0],point.coord[1],:]= (255/len(clusters)-1)*index\n",
        "    write = io.open(f'{newfile}-kemans.tif','w',\n",
        "        driver='GTiff',\n",
        "        height=newraster.shape[0],\n",
        "        width=newraster.shape[1],\n",
        "        count=3,\n",
        "        dtype=np.int8,\n",
        "        crs=params.crs,\n",
        "        transform=params.transform)\n",
        "    for h in range(index):\n",
        "        write.write(newraster[:,:,h],h+1)\n",
        "    params.close()\n",
        "    write.close()\n",
        "    return newraster\n",
        "\n",
        "n = class2array(file1,clusters,'10-means.tiff')\n",
        "print(n[50:55,50:55,:])\n"
      ]
    }
  ],
  "metadata": {
    "colab": {
      "provenance": []
    },
    "kernelspec": {
      "display_name": "Python 3.10.6 64-bit",
      "language": "python",
      "name": "python3"
    },
    "language_info": {
      "codemirror_mode": {
        "name": "ipython",
        "version": 3
      },
      "file_extension": ".py",
      "mimetype": "text/x-python",
      "name": "python",
      "nbconvert_exporter": "python",
      "pygments_lexer": "ipython3",
      "version": "3.10.6"
    },
    "vscode": {
      "interpreter": {
        "hash": "aee8b7b246df8f9039afb4144a1f6fd8d2ca17a180786b69acc140d282b71a49"
      }
    }
  },
  "nbformat": 4,
  "nbformat_minor": 0
}
