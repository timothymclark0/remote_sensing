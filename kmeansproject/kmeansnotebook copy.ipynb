{
  "cells": [
    {
      "cell_type": "code",
      "execution_count": 1,
      "metadata": {
        "id": "eGt29AvgdzN1"
      },
      "outputs": [],
      "source": [
        "from __future__ import annotations\n",
        "from typing import TypeVar, Generic, List, Sequence\n",
        "from copy import deepcopy\n",
        "from functools import partial\n",
        "from random import uniform\n",
        "from statistics import mean,pstdev\n",
        "from dataclasses import dataclass\n",
        "import numpy as np\n",
        "import rasterio as io\n",
        "#from data_point import DataPoint"
      ]
    },
    {
      "cell_type": "code",
      "execution_count": 2,
      "metadata": {
        "id": "pzxzCZZsgy1u"
      },
      "outputs": [],
      "source": [
        "def zscores(original: Sequence[float]) -> List[float]:\n",
        "  avg: float = mean(original)\n",
        "  std: float = np.std(original)\n",
        "  if std == 0: # return all zeros if there is no variation\n",
        "    return [0] * len(original)\n",
        "  return [(x - avg) / std for x in original]"
      ]
    },
    {
      "cell_type": "code",
      "execution_count": 3,
      "metadata": {
        "id": "S0oPy93QhLb0"
      },
      "outputs": [],
      "source": [
        "from __future__ import annotations\n",
        "from typing import Iterator, Tuple, List, Iterable\n",
        "from math import sqrt\n",
        "class DataPoint:\n",
        "  def __init__(self, initial: Iterable[float]) -> None:\n",
        "    self._originals: Tuple[float, ...] = tuple(initial)\n",
        "    self.dimensions: Tuple[float, ...] = tuple(initial)\n",
        "  @property\n",
        "  def num_dimensions(self) -> int:\n",
        "    return len(self.dimensions)\n",
        "  def distance(self, other: DataPoint) -> float:\n",
        "    combined: Iterator[Tuple[float, float]] = zip(self.dimensions,other.dimensions)\n",
        "    differences: List[float] = [(x - y) ** 2 for x, y in combined]\n",
        "    return sqrt(sum(differences))\n",
        "  def __eq__(self, other: object) -> bool:\n",
        "    if not isinstance(other, DataPoint):\n",
        "      return NotImplemented\n",
        "    return self.dimensions == other.dimensions\n",
        "  def __repr__(self) -> str:\n",
        "    return self._originals.__repr__()"
      ]
    },
    {
      "cell_type": "code",
      "execution_count": 4,
      "metadata": {
        "id": "puzwbhtYh7iJ"
      },
      "outputs": [],
      "source": [
        "Point = TypeVar('Point', bound=DataPoint)\n",
        "class KMeans(Generic[Point]):\n",
        "  @dataclass\n",
        "  class Cluster:\n",
        "    points: List[Point]\n",
        "    centroid: DataPoint\n",
        "  def __init__(self, k: int, points: List[Point]) -> None:\n",
        "    if k < 1: # k-means can't do negative or zero clusters\n",
        "      raise ValueError(\"k must be >= 1\")\n",
        "    self._points: List[Point] = points\n",
        "    self._zscore_normalize()\n",
        "# initialize empty clusters with random centroids\n",
        "    self._clusters: List[KMeans.Cluster] = []\n",
        "    for _ in range(k):\n",
        "      rand_point: DataPoint = self._random_point()\n",
        "      cluster: KMeans.Cluster = KMeans.Cluster([i*0 - 99 for i in range(len(self._points))], rand_point)\n",
        "      self._clusters.append(cluster)\n",
        "  @property\n",
        "  def _centroids(self) -> List[DataPoint]:\n",
        "    return [x.centroid for x in self._clusters]\n",
        "  def _dimension_slice(self, dimension: int) -> List[float]:\n",
        "    return [x.dimensions[dimension] for x in self._points]\n",
        "  def _zscore_normalize(self) -> None:\n",
        "    zscored: List[List[float]] = [[] for _ in range(len(self._points))]\n",
        "    for dimension in range(self._points[0].num_dimensions):\n",
        "      dimension_slice: List[float] = self._dimension_slice(dimension) #PROBLEM!!!\n",
        "      for index, zscore in enumerate(zscores(dimension_slice)):\n",
        "        zscored[index].append(zscore)\n",
        "    for i in range(len(self._points)):\n",
        "      self._points[i].dimensions = tuple(zscored[i])\n",
        "  def _random_point(self) -> DataPoint:\n",
        "    rand_dimensions: List[float] = []\n",
        "    for dimension in range(self._points[0].num_dimensions):\n",
        "      values: List[float] = self._dimension_slice(dimension)\n",
        "      rand_value: float = uniform(min(values), max(values))\n",
        "      rand_dimensions.append(rand_value)\n",
        "    return DataPoint(rand_dimensions)\n",
        "  def _assign_clusters(self) -> None:\n",
        "    for point in self._points:\n",
        "      closest: DataPoint = min(self._centroids, key=partial(DataPoint.distance, point))\n",
        "      idx: int = self._centroids.index(closest)\n",
        "      cluster: KMeans.Cluster = self._clusters[idx]\n",
        "      for i in range(cluster.points):\n",
        "          if cluster.points[i] != -99:\n",
        "            break\n",
        "          else: pass            \n",
        "      cluster.points[i] = point\n",
        "  def _generate_centroids(self) -> None:\n",
        "    for cluster in self._clusters:\n",
        "      if cluster.points[0] == -99: # keep the same centroid if no points\n",
        "        continue\n",
        "      means: List[float] = []\n",
        "    for dimension in range(cluster.points[0].num_dimensions):\n",
        "      for i \n",
        "      dimension_slice: List[float] = [(p.dimensions[dimension] if p != -99 else -99) for p in cluster.points]\n",
        "      means.append(mean(dimension_slice))\n",
        "      cluster.centroid = DataPoint(means)\n",
        "  def run(self, max_iterations: int = 100) -> List[KMeans.Cluster]:\n",
        "    for iteration in range(max_iterations):\n",
        "      print(f\"iteration #{iteration} centroids: {[i.centroid for i in self._clusters]}\")\n",
        "      for cluster in self._clusters: # clear all clusters\n",
        "        cluster.points.clear()\n",
        "      self._assign_clusters() # find cluster each point is closest to\n",
        "      old_centroids: List[DataPoint] = deepcopy(self._centroids) # record\n",
        "      self._generate_centroids() # find new centroids\n",
        "      if old_centroids == self._centroids: # have centroids moved?\n",
        "        print(f\"Converged after {iteration} iterations\")\n",
        "        return self._clusters\n",
        "    return self._clusters"
      ]
    },
    {
      "cell_type": "code",
      "execution_count": 5,
      "metadata": {
        "colab": {
          "base_uri": "https://localhost:8080/"
        },
        "id": "aXvh5vyJCZxr",
        "outputId": "00e5ccd4-645a-4f54-b63b-594026481707"
      },
      "outputs": [
        {
          "name": "stdout",
          "output_type": "stream",
          "text": [
            "iteration #0 centroids: [(2.8608246082276247, 1.2729860021609216, 3.9137059779142236), (2.9002558560424574, 1.4777180319394017, 4.111542330685096)]\n",
            "iteration #1 centroids: [(2.8608246082276247, 1.2729860021609216, 3.9137059779142236), (2.0, 2.0, 5.0)]\n",
            "Converged after 1 iterations\n",
            "Cluster 0: [(2.0, 1.0, 1.0), (3.0, 1.5, 2.5)]\n",
            "Cluster 1: [(2.0, 2.0, 5.0)]\n"
          ]
        }
      ],
      "source": [
        "point1: DataPoint = DataPoint([2.0, 1.0, 1.0])\n",
        "point2: DataPoint = DataPoint([2.0, 2.0, 5.0])\n",
        "point3: DataPoint = DataPoint([3.0, 1.5, 2.5])\n",
        "kmeans_test: KMeans[DataPoint] = KMeans(2, [point1, point2, point3])\n",
        "test_clusters: List[KMeans.Cluster] = kmeans_test.run()\n",
        "for index, cluster in enumerate(test_clusters):\n",
        "  print(f\"Cluster {index}: {cluster.points}\")"
      ]
    },
    {
      "cell_type": "code",
      "execution_count": null,
      "metadata": {
        "id": "dLLbbvx5zS-a"
      },
      "outputs": [],
      "source": []
    },
    {
      "cell_type": "code",
      "execution_count": null,
      "metadata": {
        "id": "k-47iwcGCrZh"
      },
      "outputs": [],
      "source": [
        "import imageio as io\n",
        "from pathlib import Path\n",
        "import os \n",
        "import numpy as np\n",
        "\n",
        "os.chdir(r'/content/drive/MyDrive/Colab Notebooks/remotesensing')\n",
        "def imgcomposite(name1,name2):\n",
        "  before = io.imread(name1)\n",
        "  print(f\"{before} loaded with {before.shape} dimensions\")\n",
        "  after = io.imread(name2)\n",
        "  print(f\"{after} loaded with {after.shape} dimensions\")\n",
        "  composite = np.array([before[:,:,4],after[:,:,4]])\n",
        "  pointarray = map(lambda x,y: DataPoint([x,y]),composite[0,:,:],composite[1,:,:])\n",
        "  return pointarray\n"
      ]
    },
    {
      "cell_type": "code",
      "execution_count": 7,
      "metadata": {
        "colab": {
          "base_uri": "https://localhost:8080/"
        },
        "id": "4GHA0Uczzbqp",
        "outputId": "533440bb-e5ca-4082-a962-557e2b16e3de"
      },
      "outputs": [
        {
          "name": "stdout",
          "output_type": "stream",
          "text": [
            "2519673\n",
            "(100, 47, 53, 58, 77, 43, 100, 48, 58, 53, 87, 53)\n"
          ]
        }
      ],
      "source": [
        "\n",
        "#!pip install rasterio\n",
        "#!pip install geopandas\n",
        "#import geopandas\n",
        "import os\n",
        "import rasterio\n",
        "from rasterio.plot import show\n",
        "os.chdir('/Users/timothyclark/Documents/Python/remote_sensing/kmeansproject/')\n",
        "file1 = 'no-0822.img'\n",
        "file2 = 'no-0907.img'\n",
        "class GeoPixel(DataPoint):\n",
        "  def __init__(self,coord,composite):\n",
        "    super().__init__(composite)\n",
        "    self.coord = coord\n",
        "\n",
        "def parser(imgfile,band):\n",
        "  a = rasterio.open(imgfile)\n",
        "  pixels = a.read(band)\n",
        "  a.close()\n",
        "  return pixels\n",
        "\n",
        "def composite(imgarray):\n",
        "  szx,szy = imgarray[0].shape[0], imgarray[0].shape[1]\n",
        "  comp = np.zeros((szx,szy,len(imgarray)),dtype='int32')\n",
        "  for index,band in enumerate(imgarray):\n",
        "    comp[:,:,index] = band\n",
        "  lst = []\n",
        "  for x in range(szx):\n",
        "    for y in range(szy):\n",
        "      lst += [GeoPixel((x,y),list(comp[x,y,:]))]\n",
        "  return lst\n",
        "\n",
        "z = composite([parser(file1,i+1) for i in range(6)] + [parser(file2,i+1) for i in range(6)])\n",
        "#z = composite([parser(file1,5),parser(file2,5),parser(file1,4)])\n",
        "print(len(z))\n",
        "print(z[int(uniform(0.0,float(len(z))))])"
      ]
    },
    {
      "cell_type": "code",
      "execution_count": 8,
      "metadata": {
        "colab": {
          "base_uri": "https://localhost:8080/"
        },
        "id": "Q7wVbNYB5imU",
        "outputId": "e4f3ff6a-47a8-4b33-96fc-c0d67f6ae4b3"
      },
      "outputs": [
        {
          "name": "stdout",
          "output_type": "stream",
          "text": [
            "iteration #0 centroids: [(92.49448027749253, 168.6227554988403, 14.853168562200631, 65.28172710535414, 66.59035482510161, 223.2571775947441, 221.02455282353841, 186.048338183384, 43.473071421304304, 254.39919278097048, 72.73160086281713, 132.43813848602903), (94.74782369968574, 108.05885114300001, 146.98982317506417, 165.45708329666593, 139.47714589504514, 247.07877149324375, 181.93880083932117, 144.7565817101614, 171.6347701442887, 161.59338911304735, 194.2085481658364, 122.73738369756529), (19.344798547371568, 153.73112519055303, 80.4815576307986, 116.22107563105159, 36.769085595631225, 47.009318292743316, 196.58591523369654, 218.19628960103006, 26.872404392138797, 185.8936438676037, 224.2799729930443, 72.12613337037442), (169.13231994098888, 38.70416300896054, 194.11784071669868, 224.59226549875254, 235.72076893219943, 52.062989061862005, 37.059588643789255, 104.41067975680765, 82.54827299854115, 174.79751732485286, 241.08669992485915, 206.014075762769), (6.261832086571342, 112.5430866881422, 192.9446568148309, 44.57468446409058, 231.49639747100835, 15.421300704729223, 93.96153050380613, 196.44722111653417, 188.32375959061713, 201.58224311758198, 65.47126037767434, 115.68346642998607)]\n",
            "iteration #1 centroids: [(92.49448027749253, 168.6227554988403, 14.853168562200631, 65.28172710535414, 66.59035482510161, 223.2571775947441, 221.02455282353841, 186.048338183384, 43.473071421304304, 254.39919278097048, 72.73160086281713, 132.43813848602903), (94.74782369968574, 108.05885114300001, 146.98982317506417, 165.45708329666593, 139.47714589504514, 247.07877149324375, 181.93880083932117, 144.7565817101614, 171.6347701442887, 161.59338911304735, 194.2085481658364, 122.73738369756529), (19.344798547371568, 153.73112519055303, 80.4815576307986, 116.22107563105159, 36.769085595631225, 47.009318292743316, 196.58591523369654, 218.19628960103006, 26.872404392138797, 185.8936438676037, 224.2799729930443, 72.12613337037442), (169.13231994098888, 38.70416300896054, 194.11784071669868, 224.59226549875254, 235.72076893219943, 52.062989061862005, 37.059588643789255, 104.41067975680765, 82.54827299854115, 174.79751732485286, 241.08669992485915, 206.014075762769), (109, 52, 59, 80, 120, 60, 67, 25, 22, 17, 16, 9)]\n",
            "iteration #2 centroids: [(92.49448027749253, 168.6227554988403, 14.853168562200631, 65.28172710535414, 66.59035482510161, 223.2571775947441, 221.02455282353841, 186.048338183384, 43.473071421304304, 254.39919278097048, 72.73160086281713, 132.43813848602903), (94.74782369968574, 108.05885114300001, 146.98982317506417, 165.45708329666593, 139.47714589504514, 247.07877149324375, 181.93880083932117, 144.7565817101614, 171.6347701442887, 161.59338911304735, 194.2085481658364, 122.73738369756529), (19.344798547371568, 153.73112519055303, 80.4815576307986, 116.22107563105159, 36.769085595631225, 47.009318292743316, 196.58591523369654, 218.19628960103006, 26.872404392138797, 185.8936438676037, 224.2799729930443, 72.12613337037442), (169.13231994098888, 38.70416300896054, 194.11784071669868, 224.59226549875254, 235.72076893219943, 52.062989061862005, 37.059588643789255, 104.41067975680765, 82.54827299854115, 174.79751732485286, 241.08669992485915, 206.014075762769), (84, 34, 31, 50, 45, 19, 74, 31, 31, 36, 40, 19)]\n"
          ]
        }
      ],
      "source": [
        "#kmeans_test2: KMeans[GeoPixel] = KMeans(3,composite(parser(file1,5),parser(file2,5)))\n",
        "kmeans_test2: KMeans[GeoPixel] = KMeans(5,z)\n",
        "clusters: KMeans.Cluster = kmeans_test2.run()\n",
        "for index, cluster in enumerate(clusters):\n",
        "  print(f\"Cluster {index}: {len(cluster.points)}\")"
      ]
    },
    {
      "cell_type": "code",
      "execution_count": null,
      "metadata": {
        "colab": {
          "base_uri": "https://localhost:8080/",
          "height": 513
        },
        "id": "MFVGB16e5gYk",
        "outputId": "7aee4985-4e03-4bd3-8617-5b1124b0c574"
      },
      "outputs": [],
      "source": [
        "import matplotlib.pyplot as plt\n",
        "%matplotlib inline\n",
        "colors = ['r','b','g','k','r']\n",
        "for index, cluster in enumerate(clusters):\n",
        "  y = [point.coord[0] for point in cluster.points]\n",
        "  x = [point.coord[1] for point in cluster.points]\n",
        "  plt.scatter(x,y,marker='.',color=colors.pop())\n",
        "\n",
        "plt.show()\n"
      ]
    },
    {
      "cell_type": "code",
      "execution_count": null,
      "metadata": {
        "colab": {
          "base_uri": "https://localhost:8080/",
          "height": 265
        },
        "id": "o2t32dZ9LyYH",
        "outputId": "fa3ff681-4f27-468e-a88d-b1c45adb9083"
      },
      "outputs": [],
      "source": [
        "import matplotlib.pyplot as plt\n",
        "colors = ['r','b','g','k','r','b','g','k','r','b']\n",
        "for index, cluster in enumerate(clusters):\n",
        "  x = [point._originals[4] for point in cluster.points]\n",
        "  y = [point._originals[10] for point in cluster.points]\n",
        "  plt.scatter(x,y,color=colors.pop())\n",
        "\n",
        "plt.show()"
      ]
    },
    {
      "cell_type": "code",
      "execution_count": null,
      "metadata": {
        "colab": {
          "base_uri": "https://localhost:8080/"
        },
        "id": "_FbwGjxrk_jS",
        "outputId": "1cc4c440-1ad0-4d05-c0c3-b970b14f5071"
      },
      "outputs": [],
      "source": [
        "import rasterio as io\n",
        "#params = rasterio.open(file1,'r')\n",
        "##z = parser(file1,5)\n",
        "#sz = z.shape\n",
        "#newraster = np.zeros((sz[0],sz[1],3),dtype='uint8')\n",
        "#for index, cluster in enumerate(clusters):\n",
        "#    for point in cluster.points:\n",
        "#        newraster[point.coord[0],point.coord[1],index] = 255\n",
        "        \n",
        "def class2array(refimg,clusters,newfile):\n",
        "    params = io.open(refimg,'r')\n",
        "    sz = params.read(1).shape\n",
        "    newraster = np.zeros((sz[0],sz[1],3),dtype=np.int8)\n",
        "    for index, cluster in enumerate(clusters):\n",
        "        for point in cluster.points:\n",
        "            newraster[point.coord[0],point.coord[1],:]= (255/len(clusters)-1)*index\n",
        "    write = io.open(f'{newfile}-kemans.tif','w',\n",
        "        driver='GTiff',\n",
        "        height=newraster.shape[0],\n",
        "        width=newraster.shape[1],\n",
        "        count=3,\n",
        "        dtype=z.dtype,\n",
        "        crs=params.crs,\n",
        "        transform=params.transform)\n",
        "    for h in range(index):\n",
        "        write.write(newraster[:,:,h],h+1)\n",
        "    params.close()\n",
        "    write.close()\n",
        "    return newraster\n",
        "\n",
        "n = class2array(file1,clusters,'10-means.tiff')\n",
        "print(n[50:55,50:55,:])\n"
      ]
    }
  ],
  "metadata": {
    "colab": {
      "provenance": []
    },
    "kernelspec": {
      "display_name": "Python 3.10.6 64-bit",
      "language": "python",
      "name": "python3"
    },
    "language_info": {
      "codemirror_mode": {
        "name": "ipython",
        "version": 3
      },
      "file_extension": ".py",
      "mimetype": "text/x-python",
      "name": "python",
      "nbconvert_exporter": "python",
      "pygments_lexer": "ipython3",
      "version": "3.10.6"
    },
    "vscode": {
      "interpreter": {
        "hash": "aee8b7b246df8f9039afb4144a1f6fd8d2ca17a180786b69acc140d282b71a49"
      }
    }
  },
  "nbformat": 4,
  "nbformat_minor": 0
}
